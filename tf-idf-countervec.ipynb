{
 "cells": [
  {
   "attachments": {},
   "cell_type": "markdown",
   "id": "b36b87c0",
   "metadata": {
    "papermill": {
     "duration": 0.02125,
     "end_time": "2023-05-26T09:57:28.741063",
     "exception": false,
     "start_time": "2023-05-26T09:57:28.719813",
     "status": "completed"
    },
    "tags": []
   },
   "source": [
    "<center>\n",
    "<img src='https://community.nasscom.in/sites/default/files/media/images/NLP-image.jpg' width=800 height=500 />\n",
    "</center>"
   ]
  },
  {
   "attachments": {},
   "cell_type": "markdown",
   "id": "0e2b5ef0",
   "metadata": {
    "papermill": {
     "duration": 0.020957,
     "end_time": "2023-05-26T09:57:28.869829",
     "exception": false,
     "start_time": "2023-05-26T09:57:28.848872",
     "status": "completed"
    },
    "tags": []
   },
   "source": [
    "### Loading necessary libraries"
   ]
  },
  {
   "cell_type": "code",
   "execution_count": 1,
   "id": "446d5d55",
   "metadata": {
    "execution": {
     "iopub.execute_input": "2023-05-26T09:57:28.915518Z",
     "iopub.status.busy": "2023-05-26T09:57:28.914404Z",
     "iopub.status.idle": "2023-05-26T09:57:32.059810Z",
     "shell.execute_reply": "2023-05-26T09:57:32.058513Z"
    },
    "papermill": {
     "duration": 3.171353,
     "end_time": "2023-05-26T09:57:32.062514",
     "exception": false,
     "start_time": "2023-05-26T09:57:28.891161",
     "status": "completed"
    },
    "tags": []
   },
   "outputs": [],
   "source": [
    "%matplotlib inline\n",
    "import pandas as pd\n",
    "import numpy as np\n",
    "import matplotlib.pyplot as plt\n",
    "import seaborn as sns\n",
    "import re\n",
    "import string\n",
    "import warnings\n",
    "import nltk\n",
    "\n",
    "\n",
    "from nltk.tokenize import RegexpTokenizer\n",
    "from nltk.corpus import stopwords\n",
    "from nltk.stem import WordNetLemmatizer ,PorterStemmer\n",
    "from sklearn.feature_extraction.text import CountVectorizer,TfidfVectorizer\n",
    "from sklearn.linear_model import LogisticRegression\n",
    "from sklearn.model_selection import train_test_split\n",
    "from sklearn.metrics import accuracy_score, f1_score, recall_score, precision_score, confusion_matrix, classification_report\n",
    "from sklearn.ensemble import RandomForestClassifier\n",
    "from sklearn.naive_bayes import MultinomialNB\n",
    "from sklearn.svm import SVC\n",
    "\n"
   ]
  },
  {
   "attachments": {},
   "cell_type": "markdown",
   "id": "1d0dc663",
   "metadata": {
    "papermill": {
     "duration": 0.0235,
     "end_time": "2023-05-26T09:57:32.108964",
     "exception": false,
     "start_time": "2023-05-26T09:57:32.085464",
     "status": "completed"
    },
    "tags": []
   },
   "source": [
    "<div style = 'display:flex; justify-content:center'>   \n",
    "    <h1 align = 'center'> \n",
    "        <div style = 'background:#6666ff; border-radius:8px; padding:2px; font-size:24px; width:400px; color:white; box-shadow: 10px 10px 5px 0px rgba(0,0,0,0.75);\n",
    "-webkit-box-shadow: 10px 10px 5px 0px rgba(0,0,0,0.75);\n",
    "-moz-box-shadow: 10px 10px 5px 0px rgba(0,0,0,0.75);'  >\n",
    "            <div>\n",
    "            <font> Import data\n",
    "            </font>\n",
    "        </div>\n",
    "    </h1>\n",
    "</div>"
   ]
  },
  {
   "cell_type": "code",
   "execution_count": 2,
   "id": "4157e4ba",
   "metadata": {
    "execution": {
     "iopub.execute_input": "2023-05-26T09:57:32.157852Z",
     "iopub.status.busy": "2023-05-26T09:57:32.157431Z",
     "iopub.status.idle": "2023-05-26T09:57:32.261921Z",
     "shell.execute_reply": "2023-05-26T09:57:32.260492Z"
    },
    "papermill": {
     "duration": 0.132145,
     "end_time": "2023-05-26T09:57:32.264679",
     "exception": false,
     "start_time": "2023-05-26T09:57:32.132534",
     "status": "completed"
    },
    "tags": []
   },
   "outputs": [],
   "source": [
    "train_df = pd.read_csv(\"train.csv\")\n",
    "test_df= pd.read_csv(\"test.csv\")"
   ]
  },
  {
   "cell_type": "code",
   "execution_count": 3,
   "id": "4d8c123a",
   "metadata": {
    "execution": {
     "iopub.execute_input": "2023-05-26T09:57:32.310014Z",
     "iopub.status.busy": "2023-05-26T09:57:32.309465Z",
     "iopub.status.idle": "2023-05-26T09:57:32.344916Z",
     "shell.execute_reply": "2023-05-26T09:57:32.343708Z"
    },
    "papermill": {
     "duration": 0.060808,
     "end_time": "2023-05-26T09:57:32.347451",
     "exception": false,
     "start_time": "2023-05-26T09:57:32.286643",
     "status": "completed"
    },
    "tags": []
   },
   "outputs": [
    {
     "data": {
      "text/html": [
       "<div>\n",
       "<style scoped>\n",
       "    .dataframe tbody tr th:only-of-type {\n",
       "        vertical-align: middle;\n",
       "    }\n",
       "\n",
       "    .dataframe tbody tr th {\n",
       "        vertical-align: top;\n",
       "    }\n",
       "\n",
       "    .dataframe thead th {\n",
       "        text-align: right;\n",
       "    }\n",
       "</style>\n",
       "<table border=\"1\" class=\"dataframe\">\n",
       "  <thead>\n",
       "    <tr style=\"text-align: right;\">\n",
       "      <th></th>\n",
       "      <th>id</th>\n",
       "      <th>keyword</th>\n",
       "      <th>location</th>\n",
       "      <th>text</th>\n",
       "      <th>target</th>\n",
       "    </tr>\n",
       "  </thead>\n",
       "  <tbody>\n",
       "    <tr>\n",
       "      <th>0</th>\n",
       "      <td>1</td>\n",
       "      <td>NaN</td>\n",
       "      <td>NaN</td>\n",
       "      <td>Our Deeds are the Reason of this #earthquake M...</td>\n",
       "      <td>1</td>\n",
       "    </tr>\n",
       "    <tr>\n",
       "      <th>1</th>\n",
       "      <td>4</td>\n",
       "      <td>NaN</td>\n",
       "      <td>NaN</td>\n",
       "      <td>Forest fire near La Ronge Sask. Canada</td>\n",
       "      <td>1</td>\n",
       "    </tr>\n",
       "    <tr>\n",
       "      <th>2</th>\n",
       "      <td>5</td>\n",
       "      <td>NaN</td>\n",
       "      <td>NaN</td>\n",
       "      <td>All residents asked to 'shelter in place' are ...</td>\n",
       "      <td>1</td>\n",
       "    </tr>\n",
       "    <tr>\n",
       "      <th>3</th>\n",
       "      <td>6</td>\n",
       "      <td>NaN</td>\n",
       "      <td>NaN</td>\n",
       "      <td>13,000 people receive #wildfires evacuation or...</td>\n",
       "      <td>1</td>\n",
       "    </tr>\n",
       "    <tr>\n",
       "      <th>4</th>\n",
       "      <td>7</td>\n",
       "      <td>NaN</td>\n",
       "      <td>NaN</td>\n",
       "      <td>Just got sent this photo from Ruby #Alaska as ...</td>\n",
       "      <td>1</td>\n",
       "    </tr>\n",
       "    <tr>\n",
       "      <th>5</th>\n",
       "      <td>8</td>\n",
       "      <td>NaN</td>\n",
       "      <td>NaN</td>\n",
       "      <td>#RockyFire Update =&gt; California Hwy. 20 closed...</td>\n",
       "      <td>1</td>\n",
       "    </tr>\n",
       "    <tr>\n",
       "      <th>6</th>\n",
       "      <td>10</td>\n",
       "      <td>NaN</td>\n",
       "      <td>NaN</td>\n",
       "      <td>#flood #disaster Heavy rain causes flash flood...</td>\n",
       "      <td>1</td>\n",
       "    </tr>\n",
       "    <tr>\n",
       "      <th>7</th>\n",
       "      <td>13</td>\n",
       "      <td>NaN</td>\n",
       "      <td>NaN</td>\n",
       "      <td>I'm on top of the hill and I can see a fire in...</td>\n",
       "      <td>1</td>\n",
       "    </tr>\n",
       "    <tr>\n",
       "      <th>8</th>\n",
       "      <td>14</td>\n",
       "      <td>NaN</td>\n",
       "      <td>NaN</td>\n",
       "      <td>There's an emergency evacuation happening now ...</td>\n",
       "      <td>1</td>\n",
       "    </tr>\n",
       "    <tr>\n",
       "      <th>9</th>\n",
       "      <td>15</td>\n",
       "      <td>NaN</td>\n",
       "      <td>NaN</td>\n",
       "      <td>I'm afraid that the tornado is coming to our a...</td>\n",
       "      <td>1</td>\n",
       "    </tr>\n",
       "    <tr>\n",
       "      <th>10</th>\n",
       "      <td>16</td>\n",
       "      <td>NaN</td>\n",
       "      <td>NaN</td>\n",
       "      <td>Three people died from the heat wave so far</td>\n",
       "      <td>1</td>\n",
       "    </tr>\n",
       "    <tr>\n",
       "      <th>11</th>\n",
       "      <td>17</td>\n",
       "      <td>NaN</td>\n",
       "      <td>NaN</td>\n",
       "      <td>Haha South Tampa is getting flooded hah- WAIT ...</td>\n",
       "      <td>1</td>\n",
       "    </tr>\n",
       "    <tr>\n",
       "      <th>12</th>\n",
       "      <td>18</td>\n",
       "      <td>NaN</td>\n",
       "      <td>NaN</td>\n",
       "      <td>#raining #flooding #Florida #TampaBay #Tampa 1...</td>\n",
       "      <td>1</td>\n",
       "    </tr>\n",
       "    <tr>\n",
       "      <th>13</th>\n",
       "      <td>19</td>\n",
       "      <td>NaN</td>\n",
       "      <td>NaN</td>\n",
       "      <td>#Flood in Bago Myanmar #We arrived Bago</td>\n",
       "      <td>1</td>\n",
       "    </tr>\n",
       "    <tr>\n",
       "      <th>14</th>\n",
       "      <td>20</td>\n",
       "      <td>NaN</td>\n",
       "      <td>NaN</td>\n",
       "      <td>Damage to school bus on 80 in multi car crash ...</td>\n",
       "      <td>1</td>\n",
       "    </tr>\n",
       "    <tr>\n",
       "      <th>15</th>\n",
       "      <td>23</td>\n",
       "      <td>NaN</td>\n",
       "      <td>NaN</td>\n",
       "      <td>What's up man?</td>\n",
       "      <td>0</td>\n",
       "    </tr>\n",
       "    <tr>\n",
       "      <th>16</th>\n",
       "      <td>24</td>\n",
       "      <td>NaN</td>\n",
       "      <td>NaN</td>\n",
       "      <td>I love fruits</td>\n",
       "      <td>0</td>\n",
       "    </tr>\n",
       "    <tr>\n",
       "      <th>17</th>\n",
       "      <td>25</td>\n",
       "      <td>NaN</td>\n",
       "      <td>NaN</td>\n",
       "      <td>Summer is lovely</td>\n",
       "      <td>0</td>\n",
       "    </tr>\n",
       "    <tr>\n",
       "      <th>18</th>\n",
       "      <td>26</td>\n",
       "      <td>NaN</td>\n",
       "      <td>NaN</td>\n",
       "      <td>My car is so fast</td>\n",
       "      <td>0</td>\n",
       "    </tr>\n",
       "    <tr>\n",
       "      <th>19</th>\n",
       "      <td>28</td>\n",
       "      <td>NaN</td>\n",
       "      <td>NaN</td>\n",
       "      <td>What a goooooooaaaaaal!!!!!!</td>\n",
       "      <td>0</td>\n",
       "    </tr>\n",
       "  </tbody>\n",
       "</table>\n",
       "</div>"
      ],
      "text/plain": [
       "    id keyword location                                               text  \\\n",
       "0    1     NaN      NaN  Our Deeds are the Reason of this #earthquake M...   \n",
       "1    4     NaN      NaN             Forest fire near La Ronge Sask. Canada   \n",
       "2    5     NaN      NaN  All residents asked to 'shelter in place' are ...   \n",
       "3    6     NaN      NaN  13,000 people receive #wildfires evacuation or...   \n",
       "4    7     NaN      NaN  Just got sent this photo from Ruby #Alaska as ...   \n",
       "5    8     NaN      NaN  #RockyFire Update => California Hwy. 20 closed...   \n",
       "6   10     NaN      NaN  #flood #disaster Heavy rain causes flash flood...   \n",
       "7   13     NaN      NaN  I'm on top of the hill and I can see a fire in...   \n",
       "8   14     NaN      NaN  There's an emergency evacuation happening now ...   \n",
       "9   15     NaN      NaN  I'm afraid that the tornado is coming to our a...   \n",
       "10  16     NaN      NaN        Three people died from the heat wave so far   \n",
       "11  17     NaN      NaN  Haha South Tampa is getting flooded hah- WAIT ...   \n",
       "12  18     NaN      NaN  #raining #flooding #Florida #TampaBay #Tampa 1...   \n",
       "13  19     NaN      NaN            #Flood in Bago Myanmar #We arrived Bago   \n",
       "14  20     NaN      NaN  Damage to school bus on 80 in multi car crash ...   \n",
       "15  23     NaN      NaN                                     What's up man?   \n",
       "16  24     NaN      NaN                                      I love fruits   \n",
       "17  25     NaN      NaN                                   Summer is lovely   \n",
       "18  26     NaN      NaN                                  My car is so fast   \n",
       "19  28     NaN      NaN                       What a goooooooaaaaaal!!!!!!   \n",
       "\n",
       "    target  \n",
       "0        1  \n",
       "1        1  \n",
       "2        1  \n",
       "3        1  \n",
       "4        1  \n",
       "5        1  \n",
       "6        1  \n",
       "7        1  \n",
       "8        1  \n",
       "9        1  \n",
       "10       1  \n",
       "11       1  \n",
       "12       1  \n",
       "13       1  \n",
       "14       1  \n",
       "15       0  \n",
       "16       0  \n",
       "17       0  \n",
       "18       0  \n",
       "19       0  "
      ]
     },
     "execution_count": 3,
     "metadata": {},
     "output_type": "execute_result"
    }
   ],
   "source": [
    "train_df.head(20)"
   ]
  },
  {
   "attachments": {},
   "cell_type": "markdown",
   "id": "3565a5e8",
   "metadata": {
    "papermill": {
     "duration": 0.022649,
     "end_time": "2023-05-26T09:57:32.392461",
     "exception": false,
     "start_time": "2023-05-26T09:57:32.369812",
     "status": "completed"
    },
    "tags": []
   },
   "source": [
    "<div style = 'display:flex; justify-content:center'>   \n",
    "    <h1 align = 'center'> \n",
    "        <div style = 'background:#6666ff; border-radius:8px; padding:2px; font-size:24px; width:400px; color:white; box-shadow: 10px 10px 5px 0px rgba(0,0,0,0.75);\n",
    "-webkit-box-shadow: 10px 10px 5px 0px rgba(0,0,0,0.75);\n",
    "-moz-box-shadow: 10px 10px 5px 0px rgba(0,0,0,0.75);'  >\n",
    "            <div>\n",
    "            <font> Dataset Info\n",
    "            </font>\n",
    "        </div>\n",
    "    </h1>\n",
    "</div>"
   ]
  },
  {
   "attachments": {},
   "cell_type": "markdown",
   "id": "46442bf0",
   "metadata": {
    "papermill": {
     "duration": 0.021938,
     "end_time": "2023-05-26T09:57:32.437182",
     "exception": false,
     "start_time": "2023-05-26T09:57:32.415244",
     "status": "completed"
    },
    "tags": []
   },
   "source": [
    "### Shape of Train and Test dataset"
   ]
  },
  {
   "cell_type": "code",
   "execution_count": 4,
   "id": "65ca0460",
   "metadata": {
    "execution": {
     "iopub.execute_input": "2023-05-26T09:57:32.484440Z",
     "iopub.status.busy": "2023-05-26T09:57:32.483695Z",
     "iopub.status.idle": "2023-05-26T09:57:32.489996Z",
     "shell.execute_reply": "2023-05-26T09:57:32.488651Z"
    },
    "papermill": {
     "duration": 0.033947,
     "end_time": "2023-05-26T09:57:32.492922",
     "exception": false,
     "start_time": "2023-05-26T09:57:32.458975",
     "status": "completed"
    },
    "tags": []
   },
   "outputs": [
    {
     "name": "stdout",
     "output_type": "stream",
     "text": [
      "Train dataset shape : (7613, 5)\n",
      "----------------------------------------\n",
      "Test dataset shape : (3263, 4)\n"
     ]
    }
   ],
   "source": [
    "print(f'Train dataset shape : {train_df.shape}')\n",
    "print('--'*20)\n",
    "print(f'Test dataset shape : {test_df.shape}')"
   ]
  },
  {
   "attachments": {},
   "cell_type": "markdown",
   "id": "d2853ac1",
   "metadata": {
    "papermill": {
     "duration": 0.022625,
     "end_time": "2023-05-26T09:57:32.540019",
     "exception": false,
     "start_time": "2023-05-26T09:57:32.517394",
     "status": "completed"
    },
    "tags": []
   },
   "source": [
    "### Features in Train and Test dataset"
   ]
  },
  {
   "cell_type": "code",
   "execution_count": 5,
   "id": "51d80ea0",
   "metadata": {
    "execution": {
     "iopub.execute_input": "2023-05-26T09:57:32.586709Z",
     "iopub.status.busy": "2023-05-26T09:57:32.585881Z",
     "iopub.status.idle": "2023-05-26T09:57:32.593112Z",
     "shell.execute_reply": "2023-05-26T09:57:32.591837Z"
    },
    "papermill": {
     "duration": 0.033761,
     "end_time": "2023-05-26T09:57:32.595749",
     "exception": false,
     "start_time": "2023-05-26T09:57:32.561988",
     "status": "completed"
    },
    "tags": []
   },
   "outputs": [
    {
     "name": "stdout",
     "output_type": "stream",
     "text": [
      "Train data : Index(['id', 'keyword', 'location', 'text', 'target'], dtype='object')\n",
      "--------------------------------------------------------------------------------\n",
      "Test data : Index(['id', 'keyword', 'location', 'text'], dtype='object')\n"
     ]
    }
   ],
   "source": [
    "print(f'Train data : {train_df.columns}')\n",
    "print('----'*20)\n",
    "print(f'Test data : {test_df.columns}')"
   ]
  },
  {
   "attachments": {},
   "cell_type": "markdown",
   "id": "e2e11b92",
   "metadata": {
    "papermill": {
     "duration": 0.022897,
     "end_time": "2023-05-26T09:57:32.641236",
     "exception": false,
     "start_time": "2023-05-26T09:57:32.618339",
     "status": "completed"
    },
    "tags": []
   },
   "source": [
    "<div style = 'display:flex; justify-content:center'>   \n",
    "    <h1 align = 'center'> \n",
    "        <div style = 'background:#6666ff; border-radius:8px; padding:2px; font-size:24px; width:400px; color:white; box-shadow: 10px 10px 5px 0px rgba(0,0,0,0.75);\n",
    "-webkit-box-shadow: 10px 10px 5px 0px rgba(0,0,0,0.75);\n",
    "-moz-box-shadow: 10px 10px 5px 0px rgba(0,0,0,0.75);'  >\n",
    "            <div>\n",
    "            <font> Exploratory Data Analysis\n",
    "            </font>\n",
    "        </div>\n",
    "    </h1>\n",
    "</div>"
   ]
  },
  {
   "attachments": {},
   "cell_type": "markdown",
   "id": "524145c5",
   "metadata": {
    "papermill": {
     "duration": 0.021526,
     "end_time": "2023-05-26T09:57:32.685138",
     "exception": false,
     "start_time": "2023-05-26T09:57:32.663612",
     "status": "completed"
    },
    "tags": []
   },
   "source": [
    "### Checking duplicated text for both Train and Test dataset"
   ]
  },
  {
   "cell_type": "code",
   "execution_count": 6,
   "id": "b33fa8cd",
   "metadata": {
    "execution": {
     "iopub.execute_input": "2023-05-26T09:57:32.731633Z",
     "iopub.status.busy": "2023-05-26T09:57:32.731238Z",
     "iopub.status.idle": "2023-05-26T09:57:32.744691Z",
     "shell.execute_reply": "2023-05-26T09:57:32.743297Z"
    },
    "papermill": {
     "duration": 0.039437,
     "end_time": "2023-05-26T09:57:32.747121",
     "exception": false,
     "start_time": "2023-05-26T09:57:32.707684",
     "status": "completed"
    },
    "tags": []
   },
   "outputs": [
    {
     "name": "stdout",
     "output_type": "stream",
     "text": [
      "The number of dublicated data in Train dataset : 110\n",
      "------------------------------------------------------------\n",
      "The number of dublicated data in Test dataset :  110\n"
     ]
    }
   ],
   "source": [
    "print('The number of dublicated data in Train dataset :' ,train_df.duplicated(['text']).sum())\n",
    "print('---'*20)\n",
    "print('The number of dublicated data in Test dataset : ', train_df.duplicated(['text']).sum())\n"
   ]
  },
  {
   "attachments": {},
   "cell_type": "markdown",
   "id": "5baa8b94",
   "metadata": {
    "papermill": {
     "duration": 0.02231,
     "end_time": "2023-05-26T09:57:32.792249",
     "exception": false,
     "start_time": "2023-05-26T09:57:32.769939",
     "status": "completed"
    },
    "tags": []
   },
   "source": [
    "### Removing duplicated texts from both Train and Test dataset"
   ]
  },
  {
   "cell_type": "code",
   "execution_count": 7,
   "id": "60c45aff",
   "metadata": {
    "execution": {
     "iopub.execute_input": "2023-05-26T09:57:32.840215Z",
     "iopub.status.busy": "2023-05-26T09:57:32.839812Z",
     "iopub.status.idle": "2023-05-26T09:57:32.860420Z",
     "shell.execute_reply": "2023-05-26T09:57:32.858614Z"
    },
    "papermill": {
     "duration": 0.048501,
     "end_time": "2023-05-26T09:57:32.863354",
     "exception": false,
     "start_time": "2023-05-26T09:57:32.814853",
     "status": "completed"
    },
    "tags": []
   },
   "outputs": [],
   "source": [
    "train_df.drop_duplicates([\"text\", \"target\"], inplace=True)\n",
    "test_df.drop_duplicates([\"text\"], inplace=True)"
   ]
  },
  {
   "attachments": {},
   "cell_type": "markdown",
   "id": "2b63deee",
   "metadata": {
    "papermill": {
     "duration": 0.02169,
     "end_time": "2023-05-26T09:57:32.907895",
     "exception": false,
     "start_time": "2023-05-26T09:57:32.886205",
     "status": "completed"
    },
    "tags": []
   },
   "source": [
    "### Checking dtypes for both Train and Test dataset"
   ]
  },
  {
   "cell_type": "code",
   "execution_count": 8,
   "id": "cd12e399",
   "metadata": {
    "execution": {
     "iopub.execute_input": "2023-05-26T09:57:32.955266Z",
     "iopub.status.busy": "2023-05-26T09:57:32.954798Z",
     "iopub.status.idle": "2023-05-26T09:57:32.962515Z",
     "shell.execute_reply": "2023-05-26T09:57:32.961424Z"
    },
    "papermill": {
     "duration": 0.034189,
     "end_time": "2023-05-26T09:57:32.965349",
     "exception": false,
     "start_time": "2023-05-26T09:57:32.931160",
     "status": "completed"
    },
    "tags": []
   },
   "outputs": [
    {
     "name": "stdout",
     "output_type": "stream",
     "text": [
      "Train features dtypes \n",
      "id           int64\n",
      "keyword     object\n",
      "location    object\n",
      "text        object\n",
      "target       int64\n",
      "dtype: object\n",
      "--------------------\n",
      "Test features dtypes \n",
      "id           int64\n",
      "keyword     object\n",
      "location    object\n",
      "text        object\n",
      "dtype: object\n"
     ]
    }
   ],
   "source": [
    "print(f'Train features dtypes \\n{train_df.dtypes}')\n",
    "print('-'*20)\n",
    "print(f'Test features dtypes \\n{test_df.dtypes}')"
   ]
  },
  {
   "attachments": {},
   "cell_type": "markdown",
   "id": "72d5f5b2",
   "metadata": {
    "papermill": {
     "duration": 0.022217,
     "end_time": "2023-05-26T09:57:33.009712",
     "exception": false,
     "start_time": "2023-05-26T09:57:32.987495",
     "status": "completed"
    },
    "tags": []
   },
   "source": [
    "### Missing values in Train dataset"
   ]
  },
  {
   "cell_type": "code",
   "execution_count": 9,
   "id": "9c505720",
   "metadata": {
    "execution": {
     "iopub.execute_input": "2023-05-26T09:57:33.057081Z",
     "iopub.status.busy": "2023-05-26T09:57:33.056685Z",
     "iopub.status.idle": "2023-05-26T09:57:33.178913Z",
     "shell.execute_reply": "2023-05-26T09:57:33.177541Z"
    },
    "papermill": {
     "duration": 0.149963,
     "end_time": "2023-05-26T09:57:33.181892",
     "exception": false,
     "start_time": "2023-05-26T09:57:33.031929",
     "status": "completed"
    },
    "tags": []
   },
   "outputs": [
    {
     "name": "stdout",
     "output_type": "stream",
     "text": [
      "Missin values in Train dataset : \n"
     ]
    },
    {
     "data": {
      "text/html": [
       "<style type=\"text/css\">\n",
       "</style>\n",
       "<table id=\"T_2f076\">\n",
       "  <thead>\n",
       "    <tr>\n",
       "      <th class=\"blank level0\" >&nbsp;</th>\n",
       "      <th id=\"T_2f076_level0_col0\" class=\"col_heading level0 col0\" >Miss values</th>\n",
       "      <th id=\"T_2f076_level0_col1\" class=\"col_heading level0 col1\" >Miss values percentage %</th>\n",
       "    </tr>\n",
       "  </thead>\n",
       "  <tbody>\n",
       "    <tr>\n",
       "      <th id=\"T_2f076_level0_row0\" class=\"row_heading level0 row0\" >id</th>\n",
       "      <td id=\"T_2f076_row0_col0\" class=\"data row0 col0\" >0</td>\n",
       "      <td id=\"T_2f076_row0_col1\" class=\"data row0 col1\" >0.000000</td>\n",
       "    </tr>\n",
       "    <tr>\n",
       "      <th id=\"T_2f076_level0_row1\" class=\"row_heading level0 row1\" >keyword</th>\n",
       "      <td id=\"T_2f076_row1_col0\" class=\"data row1 col0\" >56</td>\n",
       "      <td id=\"T_2f076_row1_col1\" class=\"data row1 col1\" >0.744582</td>\n",
       "    </tr>\n",
       "    <tr>\n",
       "      <th id=\"T_2f076_level0_row2\" class=\"row_heading level0 row2\" >location</th>\n",
       "      <td id=\"T_2f076_row2_col0\" class=\"data row2 col0\" >2490</td>\n",
       "      <td id=\"T_2f076_row2_col1\" class=\"data row2 col1\" >33.107300</td>\n",
       "    </tr>\n",
       "    <tr>\n",
       "      <th id=\"T_2f076_level0_row3\" class=\"row_heading level0 row3\" >text</th>\n",
       "      <td id=\"T_2f076_row3_col0\" class=\"data row3 col0\" >0</td>\n",
       "      <td id=\"T_2f076_row3_col1\" class=\"data row3 col1\" >0.000000</td>\n",
       "    </tr>\n",
       "    <tr>\n",
       "      <th id=\"T_2f076_level0_row4\" class=\"row_heading level0 row4\" >target</th>\n",
       "      <td id=\"T_2f076_row4_col0\" class=\"data row4 col0\" >0</td>\n",
       "      <td id=\"T_2f076_row4_col1\" class=\"data row4 col1\" >0.000000</td>\n",
       "    </tr>\n",
       "  </tbody>\n",
       "</table>\n"
      ],
      "text/plain": [
       "<pandas.io.formats.style.Styler at 0x1fc0e124760>"
      ]
     },
     "execution_count": 9,
     "metadata": {},
     "output_type": "execute_result"
    }
   ],
   "source": [
    "print(\"Missin values in Train dataset : \")\n",
    "null_data = train_df.isnull().sum().to_frame().rename(columns={0:'Miss values'})\n",
    "null_data[\"Miss values percentage %\"] = train_df.isnull().sum() * 100 / len(train_df)\n",
    "null_data.style"
   ]
  },
  {
   "attachments": {},
   "cell_type": "markdown",
   "id": "9068b65d",
   "metadata": {
    "papermill": {
     "duration": 0.022543,
     "end_time": "2023-05-26T09:57:33.227082",
     "exception": false,
     "start_time": "2023-05-26T09:57:33.204539",
     "status": "completed"
    },
    "tags": []
   },
   "source": [
    "### Missing values in Test dataset"
   ]
  },
  {
   "cell_type": "code",
   "execution_count": 10,
   "id": "37753dd9",
   "metadata": {
    "execution": {
     "iopub.execute_input": "2023-05-26T09:57:33.275989Z",
     "iopub.status.busy": "2023-05-26T09:57:33.275190Z",
     "iopub.status.idle": "2023-05-26T09:57:33.296809Z",
     "shell.execute_reply": "2023-05-26T09:57:33.295565Z"
    },
    "papermill": {
     "duration": 0.048935,
     "end_time": "2023-05-26T09:57:33.299625",
     "exception": false,
     "start_time": "2023-05-26T09:57:33.250690",
     "status": "completed"
    },
    "tags": []
   },
   "outputs": [
    {
     "name": "stdout",
     "output_type": "stream",
     "text": [
      "Missin values in Test dataset : \n"
     ]
    },
    {
     "data": {
      "text/html": [
       "<style type=\"text/css\">\n",
       "</style>\n",
       "<table id=\"T_2b66a\">\n",
       "  <thead>\n",
       "    <tr>\n",
       "      <th class=\"blank level0\" >&nbsp;</th>\n",
       "      <th id=\"T_2b66a_level0_col0\" class=\"col_heading level0 col0\" >Miss values</th>\n",
       "      <th id=\"T_2b66a_level0_col1\" class=\"col_heading level0 col1\" >Miss values percentage %</th>\n",
       "    </tr>\n",
       "  </thead>\n",
       "  <tbody>\n",
       "    <tr>\n",
       "      <th id=\"T_2b66a_level0_row0\" class=\"row_heading level0 row0\" >id</th>\n",
       "      <td id=\"T_2b66a_row0_col0\" class=\"data row0 col0\" >0</td>\n",
       "      <td id=\"T_2b66a_row0_col1\" class=\"data row0 col1\" >0.000000</td>\n",
       "    </tr>\n",
       "    <tr>\n",
       "      <th id=\"T_2b66a_level0_row1\" class=\"row_heading level0 row1\" >keyword</th>\n",
       "      <td id=\"T_2b66a_row1_col0\" class=\"data row1 col0\" >26</td>\n",
       "      <td id=\"T_2b66a_row1_col1\" class=\"data row1 col1\" >0.350000</td>\n",
       "    </tr>\n",
       "    <tr>\n",
       "      <th id=\"T_2b66a_level0_row2\" class=\"row_heading level0 row2\" >location</th>\n",
       "      <td id=\"T_2b66a_row2_col0\" class=\"data row2 col0\" >1097</td>\n",
       "      <td id=\"T_2b66a_row2_col1\" class=\"data row2 col1\" >14.590000</td>\n",
       "    </tr>\n",
       "    <tr>\n",
       "      <th id=\"T_2b66a_level0_row3\" class=\"row_heading level0 row3\" >text</th>\n",
       "      <td id=\"T_2b66a_row3_col0\" class=\"data row3 col0\" >0</td>\n",
       "      <td id=\"T_2b66a_row3_col1\" class=\"data row3 col1\" >0.000000</td>\n",
       "    </tr>\n",
       "  </tbody>\n",
       "</table>\n"
      ],
      "text/plain": [
       "<pandas.io.formats.style.Styler at 0x1fc0e119310>"
      ]
     },
     "execution_count": 10,
     "metadata": {},
     "output_type": "execute_result"
    }
   ],
   "source": [
    "print(\"Missin values in Test dataset : \")\n",
    "null_data = test_df.isnull().sum().to_frame().rename(columns={0:'Miss values'})\n",
    "null_data[\"Miss values percentage %\"] = round(test_df.isnull().sum() * 100 / len(train_df),2)\n",
    "null_data.style"
   ]
  },
  {
   "cell_type": "code",
   "execution_count": 11,
   "id": "4260b62a",
   "metadata": {},
   "outputs": [
    {
     "data": {
      "text/plain": [
       "0    4315\n",
       "1    3206\n",
       "Name: target, dtype: int64"
      ]
     },
     "execution_count": 11,
     "metadata": {},
     "output_type": "execute_result"
    }
   ],
   "source": [
    "train_df.target.value_counts()"
   ]
  },
  {
   "attachments": {},
   "cell_type": "markdown",
   "id": "57bb493c",
   "metadata": {
    "papermill": {
     "duration": 0.023148,
     "end_time": "2023-05-26T09:57:33.345730",
     "exception": false,
     "start_time": "2023-05-26T09:57:33.322582",
     "status": "completed"
    },
    "tags": []
   },
   "source": [
    "### Showing target feature percentage "
   ]
  },
  {
   "cell_type": "code",
   "execution_count": 12,
   "id": "f00123ab",
   "metadata": {
    "execution": {
     "iopub.execute_input": "2023-05-26T09:57:33.394476Z",
     "iopub.status.busy": "2023-05-26T09:57:33.394034Z",
     "iopub.status.idle": "2023-05-26T09:57:33.587868Z",
     "shell.execute_reply": "2023-05-26T09:57:33.586018Z"
    },
    "papermill": {
     "duration": 0.223118,
     "end_time": "2023-05-26T09:57:33.592446",
     "exception": false,
     "start_time": "2023-05-26T09:57:33.369328",
     "status": "completed"
    },
    "tags": []
   },
   "outputs": [
    {
     "data": {
      "text/plain": [
       "<AxesSubplot:xlabel='target', ylabel='count'>"
      ]
     },
     "execution_count": 12,
     "metadata": {},
     "output_type": "execute_result"
    },
    {
     "data": {
      "image/png": "[encoded data removed]",
      "text/plain": [
       "<Figure size 640x480 with 1 Axes>"
      ]
     },
     "metadata": {},
     "output_type": "display_data"
    }
   ],
   "source": [
    "# plt.figure(figsize=(6,4))\n",
    "# plt.pie(train_df[\"target\"].value_counts(), labels= train_df[\"target\"].value_counts().keys(),autopct='%1.1f%%')\n",
    "# plt.title('Target values distribution')\n",
    "# plt.show()\n",
    "sns.countplot(data = train_df, x ='target',palette='Accent' )"
   ]
  },
  {
   "attachments": {},
   "cell_type": "markdown",
   "id": "c3adccb9",
   "metadata": {
    "papermill": {
     "duration": 0.024183,
     "end_time": "2023-05-26T09:57:33.946225",
     "exception": false,
     "start_time": "2023-05-26T09:57:33.922042",
     "status": "completed"
    },
    "tags": []
   },
   "source": [
    "### Showing Top Ten Keywords (Used)"
   ]
  },
  {
   "cell_type": "code",
   "execution_count": 13,
   "id": "343287f8",
   "metadata": {
    "execution": {
     "iopub.execute_input": "2023-05-26T09:57:33.998451Z",
     "iopub.status.busy": "2023-05-26T09:57:33.998031Z",
     "iopub.status.idle": "2023-05-26T09:57:34.434907Z",
     "shell.execute_reply": "2023-05-26T09:57:34.433046Z"
    },
    "papermill": {
     "duration": 0.466209,
     "end_time": "2023-05-26T09:57:34.437618",
     "exception": false,
     "start_time": "2023-05-26T09:57:33.971409",
     "status": "completed"
    },
    "tags": []
   },
   "outputs": [
    {
     "data": {
      "image/png": "[encoded data removed]",
      "text/plain": [
       "<Figure size 640x480 with 1 Axes>"
      ]
     },
     "metadata": {},
     "output_type": "display_data"
    }
   ],
   "source": [
    "sns.barplot(y=train_df['keyword'].value_counts()[:10].index,x=train_df['keyword'].value_counts()[:10],\n",
    "            orient='h')\n",
    "plt.title(\"Top ten keywords \")\n",
    "plt.show()"
   ]
  },
  {
   "attachments": {},
   "cell_type": "markdown",
   "id": "3c325f69",
   "metadata": {
    "papermill": {
     "duration": 0.026311,
     "end_time": "2023-05-26T09:57:35.153781",
     "exception": false,
     "start_time": "2023-05-26T09:57:35.127470",
     "status": "completed"
    },
    "tags": []
   },
   "source": [
    "<div style = 'display:flex; justify-content:center'>   \n",
    "    <h1 align = 'center'> \n",
    "        <div style = 'background:#6666ff; border-radius:8px; padding:2px; font-size:24px; width:400px; color:white; box-shadow: 10px 10px 5px 0px rgba(0,0,0,0.75);\n",
    "-webkit-box-shadow: 10px 10px 5px 0px rgba(0,0,0,0.75);\n",
    "-moz-box-shadow: 10px 10px 5px 0px rgba(0,0,0,0.75);'  >\n",
    "            <div>\n",
    "            <font> Data Preprocessing\n",
    "            </font>\n",
    "        </div>\n",
    "    </h1>\n",
    "</div>"
   ]
  },
  {
   "attachments": {},
   "cell_type": "markdown",
   "id": "17339ff8",
   "metadata": {
    "papermill": {
     "duration": 0.026316,
     "end_time": "2023-05-26T09:57:35.207081",
     "exception": false,
     "start_time": "2023-05-26T09:57:35.180765",
     "status": "completed"
    },
    "tags": []
   },
   "source": [
    "<font font size = '6px' color = '#b366ff'>Text Cleaning using Regex</font>"
   ]
  },
  {
   "cell_type": "code",
   "execution_count": 14,
   "id": "0a1bd6e8",
   "metadata": {
    "execution": {
     "iopub.execute_input": "2023-05-26T09:57:35.261196Z",
     "iopub.status.busy": "2023-05-26T09:57:35.260794Z",
     "iopub.status.idle": "2023-05-26T09:57:35.720481Z",
     "shell.execute_reply": "2023-05-26T09:57:35.719325Z"
    },
    "papermill": {
     "duration": 0.489899,
     "end_time": "2023-05-26T09:57:35.723232",
     "exception": false,
     "start_time": "2023-05-26T09:57:35.233333",
     "status": "completed"
    },
    "tags": []
   },
   "outputs": [],
   "source": [
    "def preprocessing(text):\n",
    "    \n",
    "    text=text.lower()\n",
    "    text = re.sub('\\[.*?\\]', '', text)\n",
    "    text = re.sub('https?://\\S+|www\\.\\S+', '', text)\n",
    "    text = re.sub('<.*?>+', '', text)\n",
    "    text = re.sub('[%s]' % re.escape(string.punctuation), '', text)\n",
    "    text = re.sub('\\n', '', text)\n",
    "    text = re.sub('\\w*\\d\\w*', '', text)\n",
    "    return text \n",
    "\n",
    "train_df['text']=train_df['text'].apply(lambda x :preprocessing(x))\n",
    "test_df['text']=test_df['text'].apply(lambda x :preprocessing(x))"
   ]
  },
  {
   "cell_type": "code",
   "execution_count": 15,
   "id": "4fc61808",
   "metadata": {
    "execution": {
     "iopub.execute_input": "2023-05-26T09:57:35.778306Z",
     "iopub.status.busy": "2023-05-26T09:57:35.777852Z",
     "iopub.status.idle": "2023-05-26T09:57:35.788227Z",
     "shell.execute_reply": "2023-05-26T09:57:35.786697Z"
    },
    "papermill": {
     "duration": 0.041266,
     "end_time": "2023-05-26T09:57:35.790833",
     "exception": false,
     "start_time": "2023-05-26T09:57:35.749567",
     "status": "completed"
    },
    "tags": []
   },
   "outputs": [
    {
     "data": {
      "text/plain": [
       "1600    warne ponting shocked by australian collapse  ...\n",
       "5503    officials alabama home quarantined over possib...\n",
       "6645    shipsxanchors idek how is  there people who ac...\n",
       "7093    terrifying pov footage captures violent landin...\n",
       "6834    hollywood movie about trapped miners released ...\n",
       "3080            tries to electrocute self with phone cord\n",
       "1159    japan marks  anniversary of hiroshima atomic b...\n",
       "1196    im a gemini children screaming buildings burni...\n",
       "3142    newyorkcity for the international emergency me...\n",
       "6548    how would i have survived without the mute opt...\n",
       "Name: text, dtype: object"
      ]
     },
     "execution_count": 15,
     "metadata": {},
     "output_type": "execute_result"
    }
   ],
   "source": [
    "train_df['text'].sample(10)"
   ]
  },
  {
   "cell_type": "code",
   "execution_count": 16,
   "id": "3aa0b97a",
   "metadata": {
    "execution": {
     "iopub.execute_input": "2023-05-26T09:57:35.846143Z",
     "iopub.status.busy": "2023-05-26T09:57:35.845511Z",
     "iopub.status.idle": "2023-05-26T09:57:35.859958Z",
     "shell.execute_reply": "2023-05-26T09:57:35.858690Z"
    },
    "papermill": {
     "duration": 0.046041,
     "end_time": "2023-05-26T09:57:35.862747",
     "exception": false,
     "start_time": "2023-05-26T09:57:35.816706",
     "status": "completed"
    },
    "tags": []
   },
   "outputs": [
    {
     "data": {
      "text/html": [
       "<div>\n",
       "<style scoped>\n",
       "    .dataframe tbody tr th:only-of-type {\n",
       "        vertical-align: middle;\n",
       "    }\n",
       "\n",
       "    .dataframe tbody tr th {\n",
       "        vertical-align: top;\n",
       "    }\n",
       "\n",
       "    .dataframe thead th {\n",
       "        text-align: right;\n",
       "    }\n",
       "</style>\n",
       "<table border=\"1\" class=\"dataframe\">\n",
       "  <thead>\n",
       "    <tr style=\"text-align: right;\">\n",
       "      <th></th>\n",
       "      <th>id</th>\n",
       "      <th>keyword</th>\n",
       "      <th>location</th>\n",
       "      <th>text</th>\n",
       "      <th>target</th>\n",
       "    </tr>\n",
       "  </thead>\n",
       "  <tbody>\n",
       "    <tr>\n",
       "      <th>0</th>\n",
       "      <td>1</td>\n",
       "      <td>NaN</td>\n",
       "      <td>NaN</td>\n",
       "      <td>our deeds are the reason of this earthquake ma...</td>\n",
       "      <td>1</td>\n",
       "    </tr>\n",
       "    <tr>\n",
       "      <th>1</th>\n",
       "      <td>4</td>\n",
       "      <td>NaN</td>\n",
       "      <td>NaN</td>\n",
       "      <td>forest fire near la ronge sask canada</td>\n",
       "      <td>1</td>\n",
       "    </tr>\n",
       "    <tr>\n",
       "      <th>2</th>\n",
       "      <td>5</td>\n",
       "      <td>NaN</td>\n",
       "      <td>NaN</td>\n",
       "      <td>all residents asked to shelter in place are be...</td>\n",
       "      <td>1</td>\n",
       "    </tr>\n",
       "    <tr>\n",
       "      <th>3</th>\n",
       "      <td>6</td>\n",
       "      <td>NaN</td>\n",
       "      <td>NaN</td>\n",
       "      <td>people receive wildfires evacuation orders in...</td>\n",
       "      <td>1</td>\n",
       "    </tr>\n",
       "    <tr>\n",
       "      <th>4</th>\n",
       "      <td>7</td>\n",
       "      <td>NaN</td>\n",
       "      <td>NaN</td>\n",
       "      <td>just got sent this photo from ruby alaska as s...</td>\n",
       "      <td>1</td>\n",
       "    </tr>\n",
       "  </tbody>\n",
       "</table>\n",
       "</div>"
      ],
      "text/plain": [
       "   id keyword location                                               text  \\\n",
       "0   1     NaN      NaN  our deeds are the reason of this earthquake ma...   \n",
       "1   4     NaN      NaN              forest fire near la ronge sask canada   \n",
       "2   5     NaN      NaN  all residents asked to shelter in place are be...   \n",
       "3   6     NaN      NaN   people receive wildfires evacuation orders in...   \n",
       "4   7     NaN      NaN  just got sent this photo from ruby alaska as s...   \n",
       "\n",
       "   target  \n",
       "0       1  \n",
       "1       1  \n",
       "2       1  \n",
       "3       1  \n",
       "4       1  "
      ]
     },
     "execution_count": 16,
     "metadata": {},
     "output_type": "execute_result"
    }
   ],
   "source": [
    "train_df.head()"
   ]
  },
  {
   "attachments": {},
   "cell_type": "markdown",
   "id": "3ab412e2",
   "metadata": {
    "papermill": {
     "duration": 0.025834,
     "end_time": "2023-05-26T09:57:35.914794",
     "exception": false,
     "start_time": "2023-05-26T09:57:35.888960",
     "status": "completed"
    },
    "tags": []
   },
   "source": [
    "<font font size = '6px' color = '#b366ff'>Tokenization process</font>"
   ]
  },
  {
   "cell_type": "code",
   "execution_count": 17,
   "id": "acd6115b",
   "metadata": {
    "execution": {
     "iopub.execute_input": "2023-05-26T09:57:35.970961Z",
     "iopub.status.busy": "2023-05-26T09:57:35.970525Z",
     "iopub.status.idle": "2023-05-26T09:57:36.248901Z",
     "shell.execute_reply": "2023-05-26T09:57:36.247595Z"
    },
    "papermill": {
     "duration": 0.310441,
     "end_time": "2023-05-26T09:57:36.251623",
     "exception": false,
     "start_time": "2023-05-26T09:57:35.941182",
     "status": "completed"
    },
    "tags": []
   },
   "outputs": [],
   "source": [
    "Tokenizer=RegexpTokenizer(r'\\w+')\n",
    "train_df['text']=train_df['text'].apply(lambda x : Tokenizer.tokenize(x))\n",
    "test_df['text']=test_df['text'].apply(lambda x : Tokenizer.tokenize(x))"
   ]
  },
  {
   "cell_type": "code",
   "execution_count": 18,
   "id": "f1418004",
   "metadata": {
    "execution": {
     "iopub.execute_input": "2023-05-26T09:57:36.308647Z",
     "iopub.status.busy": "2023-05-26T09:57:36.308233Z",
     "iopub.status.idle": "2023-05-26T09:57:36.330050Z",
     "shell.execute_reply": "2023-05-26T09:57:36.329134Z"
    },
    "papermill": {
     "duration": 0.053838,
     "end_time": "2023-05-26T09:57:36.332546",
     "exception": false,
     "start_time": "2023-05-26T09:57:36.278708",
     "status": "completed"
    },
    "tags": []
   },
   "outputs": [
    {
     "data": {
      "text/html": [
       "<div>\n",
       "<style scoped>\n",
       "    .dataframe tbody tr th:only-of-type {\n",
       "        vertical-align: middle;\n",
       "    }\n",
       "\n",
       "    .dataframe tbody tr th {\n",
       "        vertical-align: top;\n",
       "    }\n",
       "\n",
       "    .dataframe thead th {\n",
       "        text-align: right;\n",
       "    }\n",
       "</style>\n",
       "<table border=\"1\" class=\"dataframe\">\n",
       "  <thead>\n",
       "    <tr style=\"text-align: right;\">\n",
       "      <th></th>\n",
       "      <th>id</th>\n",
       "      <th>keyword</th>\n",
       "      <th>location</th>\n",
       "      <th>text</th>\n",
       "      <th>target</th>\n",
       "    </tr>\n",
       "  </thead>\n",
       "  <tbody>\n",
       "    <tr>\n",
       "      <th>1840</th>\n",
       "      <td>2645</td>\n",
       "      <td>crashed</td>\n",
       "      <td>NaN</td>\n",
       "      <td>[i, crashed, my, car, into, a, parked, car, th...</td>\n",
       "      <td>0</td>\n",
       "    </tr>\n",
       "    <tr>\n",
       "      <th>4549</th>\n",
       "      <td>6466</td>\n",
       "      <td>injured</td>\n",
       "      <td>USA</td>\n",
       "      <td>[offers, deluxe, toilet, safety, supporthealth...</td>\n",
       "      <td>1</td>\n",
       "    </tr>\n",
       "    <tr>\n",
       "      <th>2826</th>\n",
       "      <td>4062</td>\n",
       "      <td>displaced</td>\n",
       "      <td>NaN</td>\n",
       "      <td>[philippines, must, protect, internally, displ...</td>\n",
       "      <td>1</td>\n",
       "    </tr>\n",
       "    <tr>\n",
       "      <th>4026</th>\n",
       "      <td>5717</td>\n",
       "      <td>forest%20fire</td>\n",
       "      <td>Redding, California, USA</td>\n",
       "      <td>[ashenforest, floorburnt, manzanita, amp, timb...</td>\n",
       "      <td>1</td>\n",
       "    </tr>\n",
       "    <tr>\n",
       "      <th>2268</th>\n",
       "      <td>3252</td>\n",
       "      <td>deluged</td>\n",
       "      <td>Aro Diaspora</td>\n",
       "      <td>[theyve, come, back, gtgt, flying, ant, day, c...</td>\n",
       "      <td>1</td>\n",
       "    </tr>\n",
       "    <tr>\n",
       "      <th>5305</th>\n",
       "      <td>7578</td>\n",
       "      <td>outbreak</td>\n",
       "      <td>The Netherlands</td>\n",
       "      <td>[families, to, sue, over, legionnaires, more, ...</td>\n",
       "      <td>1</td>\n",
       "    </tr>\n",
       "    <tr>\n",
       "      <th>5887</th>\n",
       "      <td>8408</td>\n",
       "      <td>sandstorm</td>\n",
       "      <td>Hamilton County, IN</td>\n",
       "      <td>[sandstorm, woo, hoo]</td>\n",
       "      <td>1</td>\n",
       "    </tr>\n",
       "    <tr>\n",
       "      <th>4328</th>\n",
       "      <td>6147</td>\n",
       "      <td>hijack</td>\n",
       "      <td>NaN</td>\n",
       "      <td>[ive, just, posted, on, my, blog, about, crimi...</td>\n",
       "      <td>1</td>\n",
       "    </tr>\n",
       "    <tr>\n",
       "      <th>265</th>\n",
       "      <td>383</td>\n",
       "      <td>annihilation</td>\n",
       "      <td>Connecticut</td>\n",
       "      <td>[sonofbaldwin, and, hes, the, current, nova, i...</td>\n",
       "      <td>0</td>\n",
       "    </tr>\n",
       "    <tr>\n",
       "      <th>6692</th>\n",
       "      <td>9589</td>\n",
       "      <td>thunder</td>\n",
       "      <td>NaN</td>\n",
       "      <td>[i, hear, lightening, and, see, thunder]</td>\n",
       "      <td>1</td>\n",
       "    </tr>\n",
       "  </tbody>\n",
       "</table>\n",
       "</div>"
      ],
      "text/plain": [
       "        id        keyword                  location  \\\n",
       "1840  2645        crashed                       NaN   \n",
       "4549  6466        injured                       USA   \n",
       "2826  4062      displaced                       NaN   \n",
       "4026  5717  forest%20fire  Redding, California, USA   \n",
       "2268  3252        deluged              Aro Diaspora   \n",
       "5305  7578       outbreak           The Netherlands   \n",
       "5887  8408      sandstorm       Hamilton County, IN   \n",
       "4328  6147         hijack                       NaN   \n",
       "265    383   annihilation               Connecticut   \n",
       "6692  9589        thunder                       NaN   \n",
       "\n",
       "                                                   text  target  \n",
       "1840  [i, crashed, my, car, into, a, parked, car, th...       0  \n",
       "4549  [offers, deluxe, toilet, safety, supporthealth...       1  \n",
       "2826  [philippines, must, protect, internally, displ...       1  \n",
       "4026  [ashenforest, floorburnt, manzanita, amp, timb...       1  \n",
       "2268  [theyve, come, back, gtgt, flying, ant, day, c...       1  \n",
       "5305  [families, to, sue, over, legionnaires, more, ...       1  \n",
       "5887                              [sandstorm, woo, hoo]       1  \n",
       "4328  [ive, just, posted, on, my, blog, about, crimi...       1  \n",
       "265   [sonofbaldwin, and, hes, the, current, nova, i...       0  \n",
       "6692           [i, hear, lightening, and, see, thunder]       1  "
      ]
     },
     "execution_count": 18,
     "metadata": {},
     "output_type": "execute_result"
    }
   ],
   "source": [
    "train_df.sample(10)"
   ]
  },
  {
   "attachments": {},
   "cell_type": "markdown",
   "id": "a7d4369c",
   "metadata": {
    "papermill": {
     "duration": 0.027872,
     "end_time": "2023-05-26T09:57:37.073327",
     "exception": false,
     "start_time": "2023-05-26T09:57:37.045455",
     "status": "completed"
    },
    "tags": []
   },
   "source": [
    "<font font size = '6px' color = '#b366ff'>lemmatization processing and pasting words together</font>"
   ]
  },
  {
   "cell_type": "code",
   "execution_count": 19,
   "id": "9a0dee29",
   "metadata": {
    "execution": {
     "iopub.execute_input": "2023-05-26T09:57:37.129200Z",
     "iopub.status.busy": "2023-05-26T09:57:37.128616Z",
     "iopub.status.idle": "2023-05-26T09:57:42.865592Z",
     "shell.execute_reply": "2023-05-26T09:57:42.864746Z"
    },
    "papermill": {
     "duration": 5.768407,
     "end_time": "2023-05-26T09:57:42.868384",
     "exception": false,
     "start_time": "2023-05-26T09:57:37.099977",
     "status": "completed"
    },
    "tags": []
   },
   "outputs": [],
   "source": [
    "\n",
    "# lemmatizer = WordNetLemmatizer() we can use lemmatizer \n",
    "Stemmer = PorterStemmer()\n",
    "def stopwords_cleaner(text):\n",
    "\n",
    "    stopwords_list = stopwords.words('english')\n",
    "    # word = [lemmatizer.lemmatize(letter) for letter in text if letter not in stopwords_list]\n",
    "    filtered_token = [Stemmer.stem(letter) for letter in text if letter not in stopwords_list]\n",
    "    return ' '.join(filtered_token)\n",
    "    \n",
    "\n",
    "\n",
    "train_df['text'] = train_df['text'].apply(lambda x : stopwords_cleaner(x))\n",
    "test_df['text'] = test_df['text'].apply(lambda x : stopwords_cleaner(x))"
   ]
  },
  {
   "cell_type": "code",
   "execution_count": 20,
   "id": "a94231ce",
   "metadata": {
    "execution": {
     "iopub.execute_input": "2023-05-26T09:57:42.925277Z",
     "iopub.status.busy": "2023-05-26T09:57:42.924276Z",
     "iopub.status.idle": "2023-05-26T09:57:42.932805Z",
     "shell.execute_reply": "2023-05-26T09:57:42.931830Z"
    },
    "papermill": {
     "duration": 0.039797,
     "end_time": "2023-05-26T09:57:42.935241",
     "exception": false,
     "start_time": "2023-05-26T09:57:42.895444",
     "status": "completed"
    },
    "tags": []
   },
   "outputs": [
    {
     "data": {
      "text/plain": [
       "4991           reason love women militari lulgzimbestpict\n",
       "7559                           exot car wreck train accid\n",
       "2398    realdonaldtrump rushlimbaugh proof democrat af...\n",
       "6768    calgari area tornado warn end thunderstorm mov...\n",
       "6995      ellenfromnowon nexu shifter å commun cargo bike\n",
       "1901                        crush mile run tonight awesom\n",
       "2142    eazzyp never know would happen govt seem think...\n",
       "7449    wound kiss someon doesnt see disast soul rathe...\n",
       "5467    reddit updat content polici promis quarantin û...\n",
       "6635    fresh encount pulwama jampampk one terrorist k...\n",
       "Name: text, dtype: object"
      ]
     },
     "execution_count": 20,
     "metadata": {},
     "output_type": "execute_result"
    }
   ],
   "source": [
    "train_df['text'].sample(10)"
   ]
  },
  {
   "attachments": {},
   "cell_type": "markdown",
   "id": "a749e358",
   "metadata": {
    "papermill": {
     "duration": 0.026731,
     "end_time": "2023-05-26T09:57:42.989267",
     "exception": false,
     "start_time": "2023-05-26T09:57:42.962536",
     "status": "completed"
    },
    "tags": []
   },
   "source": [
    "<font font size = '6px' color = '#b366ff'> Using CounterVectorizer on our text</font>"
   ]
  },
  {
   "cell_type": "code",
   "execution_count": 21,
   "id": "e72151a2",
   "metadata": {
    "execution": {
     "iopub.execute_input": "2023-05-26T09:57:43.046735Z",
     "iopub.status.busy": "2023-05-26T09:57:43.046078Z",
     "iopub.status.idle": "2023-05-26T09:57:43.277147Z",
     "shell.execute_reply": "2023-05-26T09:57:43.275681Z"
    },
    "papermill": {
     "duration": 0.262396,
     "end_time": "2023-05-26T09:57:43.279610",
     "exception": false,
     "start_time": "2023-05-26T09:57:43.017214",
     "status": "completed"
    },
    "tags": []
   },
   "outputs": [
    {
     "name": "stdout",
     "output_type": "stream",
     "text": [
      "[[0 0 0 ... 0 0 0]]\n"
     ]
    }
   ],
   "source": [
    "count_vectorizer=CountVectorizer()\n",
    "train_vectors=count_vectorizer.fit_transform(train_df['text'])\n",
    "\n",
    "test_vectors = count_vectorizer.transform(test_df[\"text\"])\n",
    "\n",
    "\n",
    "print(train_vectors[0].todense())"
   ]
  },
  {
   "attachments": {},
   "cell_type": "markdown",
   "id": "eaeee890",
   "metadata": {
    "papermill": {
     "duration": 0.029116,
     "end_time": "2023-05-26T09:57:43.335693",
     "exception": false,
     "start_time": "2023-05-26T09:57:43.306577",
     "status": "completed"
    },
    "tags": []
   },
   "source": [
    "<div style = 'display:flex; justify-content:center'>   \n",
    "    <h1 align = 'center'> \n",
    "        <div style = 'background:#6666ff; border-radius:8px; padding:2px; font-size:24px; width:400px; color:white; box-shadow: 10px 10px 5px 0px rgba(0,0,0,0.75);\n",
    "-webkit-box-shadow: 10px 10px 5px 0px rgba(0,0,0,0.75);\n",
    "-moz-box-shadow: 10px 10px 5px 0px rgba(0,0,0,0.75);'  >\n",
    "            <div>\n",
    "            <font> Model Building\n",
    "            </font>\n",
    "        </div>\n",
    "    </h1>\n",
    "</div>"
   ]
  },
  {
   "attachments": {},
   "cell_type": "markdown",
   "id": "7ef69fcb",
   "metadata": {
    "papermill": {
     "duration": 0.027638,
     "end_time": "2023-05-26T09:57:43.390490",
     "exception": false,
     "start_time": "2023-05-26T09:57:43.362852",
     "status": "completed"
    },
    "tags": []
   },
   "source": [
    "### Spliting data to train and test (CounterVectorizer)"
   ]
  },
  {
   "cell_type": "code",
   "execution_count": 22,
   "id": "d1696526",
   "metadata": {
    "execution": {
     "iopub.execute_input": "2023-05-26T09:57:43.450070Z",
     "iopub.status.busy": "2023-05-26T09:57:43.449614Z",
     "iopub.status.idle": "2023-05-26T09:57:43.460377Z",
     "shell.execute_reply": "2023-05-26T09:57:43.458970Z"
    },
    "papermill": {
     "duration": 0.044877,
     "end_time": "2023-05-26T09:57:43.463691",
     "exception": false,
     "start_time": "2023-05-26T09:57:43.418814",
     "status": "completed"
    },
    "tags": []
   },
   "outputs": [],
   "source": [
    "X_train , X_test , y_train , y_test  = train_test_split(train_vectors , train_df['target'] , test_size=0.1 , random_state=1)\n"
   ]
  },
  {
   "attachments": {},
   "cell_type": "markdown",
   "id": "f2746df7",
   "metadata": {
    "papermill": {
     "duration": 0.02889,
     "end_time": "2023-05-26T09:57:43.522142",
     "exception": false,
     "start_time": "2023-05-26T09:57:43.493252",
     "status": "completed"
    },
    "tags": []
   },
   "source": [
    "### Using TfidfVectorizer on our text"
   ]
  },
  {
   "cell_type": "code",
   "execution_count": 23,
   "id": "89fde621",
   "metadata": {
    "execution": {
     "iopub.execute_input": "2023-05-26T09:57:43.581815Z",
     "iopub.status.busy": "2023-05-26T09:57:43.581378Z",
     "iopub.status.idle": "2023-05-26T09:57:44.022696Z",
     "shell.execute_reply": "2023-05-26T09:57:44.021085Z"
    },
    "papermill": {
     "duration": 0.474548,
     "end_time": "2023-05-26T09:57:44.025445",
     "exception": false,
     "start_time": "2023-05-26T09:57:43.550897",
     "status": "completed"
    },
    "tags": []
   },
   "outputs": [],
   "source": [
    "tfidf=TfidfVectorizer(min_df=2,max_df=0.5,ngram_range=(1,2))\n",
    "\n",
    "train_tfidf=tfidf.fit_transform(train_df['text'])\n",
    "test_tfidf = tfidf.transform(test_df[\"text\"])"
   ]
  },
  {
   "attachments": {},
   "cell_type": "markdown",
   "id": "84b7ed7f",
   "metadata": {
    "papermill": {
     "duration": 0.028546,
     "end_time": "2023-05-26T09:57:44.082829",
     "exception": false,
     "start_time": "2023-05-26T09:57:44.054283",
     "status": "completed"
    },
    "tags": []
   },
   "source": [
    "### Spliting data to train and test (TF_IDF)"
   ]
  },
  {
   "cell_type": "code",
   "execution_count": 24,
   "id": "0167b4ab",
   "metadata": {
    "execution": {
     "iopub.execute_input": "2023-05-26T09:57:44.141037Z",
     "iopub.status.busy": "2023-05-26T09:57:44.140176Z",
     "iopub.status.idle": "2023-05-26T09:57:44.148734Z",
     "shell.execute_reply": "2023-05-26T09:57:44.147771Z"
    },
    "papermill": {
     "duration": 0.042089,
     "end_time": "2023-05-26T09:57:44.152428",
     "exception": false,
     "start_time": "2023-05-26T09:57:44.110339",
     "status": "completed"
    },
    "tags": []
   },
   "outputs": [],
   "source": [
    "X_test_tf , X_train_tf , y_test_tf , y_train_tf = train_test_split(train_tfidf , train_df['target'] , test_size=0.1 , random_state=1)"
   ]
  },
  {
   "cell_type": "code",
   "execution_count": 25,
   "id": "34af2965",
   "metadata": {
    "execution": {
     "iopub.execute_input": "2023-05-26T09:57:44.210878Z",
     "iopub.status.busy": "2023-05-26T09:57:44.209888Z",
     "iopub.status.idle": "2023-05-26T09:57:44.221612Z",
     "shell.execute_reply": "2023-05-26T09:57:44.220404Z"
    },
    "papermill": {
     "duration": 0.044421,
     "end_time": "2023-05-26T09:57:44.224467",
     "exception": false,
     "start_time": "2023-05-26T09:57:44.180046",
     "status": "completed"
    },
    "tags": []
   },
   "outputs": [],
   "source": [
    "training_score_vectorizer=[]\n",
    "testing_score_vectorizer =[]\n",
    "\n",
    "def model_prediction(model):\n",
    "    model.fit(X_train,y_train)\n",
    "    x_train_pred = model.predict(X_train)\n",
    "    x_test_pred = model.predict(X_test)\n",
    "    a = accuracy_score(y_train,x_train_pred)*100\n",
    "    b = accuracy_score(y_test,x_test_pred)*100\n",
    "    training_score_vectorizer.append(a)\n",
    "    testing_score_vectorizer .append(b)\n",
    "    model_name = str(model).split('(')[0]\n",
    "    print(f\"Accuracy_Score of {model_name} model on Training Data is:\",a)\n",
    "    print(f\"Accuracy_Score of {model_name} model on Testing Data is:\",b)\n",
    "    print(\"\\n------------------------------------------------------------------------\")\n",
    "    print(f\"Precision Score of {model_name} model is:\",precision_score(y_test,x_test_pred))\n",
    "    print(f\"Recall Score of {model_name} model is:\",recall_score(y_test,x_test_pred))\n",
    "    print(f\"F1 Score of {model_name} model is:\",f1_score(y_test,x_test_pred))\n",
    "    print(\"\\n------------------------------------------------------------------------\")\n",
    "    print(f\"Confusion Matrix of {model_name} model is:\")\n",
    "    cm = confusion_matrix(y_test,x_test_pred)\n",
    "    plt.figure(figsize=(6,3))\n",
    "    sns.heatmap(cm,annot=True,fmt=\"g\",cmap=\"PiYG\")\n",
    "    plt.show()"
   ]
  },
  {
   "cell_type": "code",
   "execution_count": 26,
   "id": "11de4ede",
   "metadata": {
    "execution": {
     "iopub.execute_input": "2023-05-26T09:57:44.284530Z",
     "iopub.status.busy": "2023-05-26T09:57:44.284102Z",
     "iopub.status.idle": "2023-05-26T09:57:45.211943Z",
     "shell.execute_reply": "2023-05-26T09:57:45.210743Z"
    },
    "papermill": {
     "duration": 0.959093,
     "end_time": "2023-05-26T09:57:45.214453",
     "exception": false,
     "start_time": "2023-05-26T09:57:44.255360",
     "status": "completed"
    },
    "tags": []
   },
   "outputs": [
    {
     "name": "stdout",
     "output_type": "stream",
     "text": [
      "Accuracy_Score of LogisticRegression model on Training Data is: 95.13888888888889\n",
      "Accuracy_Score of LogisticRegression model on Testing Data is: 80.34528552456838\n",
      "\n",
      "------------------------------------------------------------------------\n",
      "Precision Score of LogisticRegression model is: 0.8082191780821918\n",
      "Recall Score of LogisticRegression model is: 0.7195121951219512\n",
      "F1 Score of LogisticRegression model is: 0.7612903225806452\n",
      "\n",
      "------------------------------------------------------------------------\n",
      "Confusion Matrix of LogisticRegression model is:\n"
     ]
    },
    {
     "data": {
      "image/png": "[encoded data removed]",
      "text/plain": [
       "<Figure size 600x300 with 2 Axes>"
      ]
     },
     "metadata": {},
     "output_type": "display_data"
    }
   ],
   "source": [
    "LogesticReg_CounetrVectorizer=LogisticRegression()\n",
    "model_prediction(LogesticReg_CounetrVectorizer)"
   ]
  },
  {
   "cell_type": "code",
   "execution_count": 27,
   "id": "1cb6bf6a",
   "metadata": {
    "execution": {
     "iopub.execute_input": "2023-05-26T09:57:45.275487Z",
     "iopub.status.busy": "2023-05-26T09:57:45.273992Z",
     "iopub.status.idle": "2023-05-26T09:58:11.001615Z",
     "shell.execute_reply": "2023-05-26T09:58:11.000256Z"
    },
    "papermill": {
     "duration": 25.760749,
     "end_time": "2023-05-26T09:58:11.004395",
     "exception": false,
     "start_time": "2023-05-26T09:57:45.243646",
     "status": "completed"
    },
    "tags": []
   },
   "outputs": [
    {
     "name": "stdout",
     "output_type": "stream",
     "text": [
      "Accuracy_Score of RandomForestClassifier model on Training Data is: 98.72931442080379\n",
      "Accuracy_Score of RandomForestClassifier model on Testing Data is: 78.88446215139442\n",
      "\n",
      "------------------------------------------------------------------------\n",
      "Precision Score of RandomForestClassifier model is: 0.8118081180811808\n",
      "Recall Score of RandomForestClassifier model is: 0.6707317073170732\n",
      "F1 Score of RandomForestClassifier model is: 0.7345575959933222\n",
      "\n",
      "------------------------------------------------------------------------\n",
      "Confusion Matrix of RandomForestClassifier model is:\n"
     ]
    },
    {
     "data": {
      "image/png": "[encoded data removed]",
      "text/plain": [
       "<Figure size 600x300 with 2 Axes>"
      ]
     },
     "metadata": {},
     "output_type": "display_data"
    }
   ],
   "source": [
    "RandomForset_CounterVectorizer=RandomForestClassifier(n_estimators=100)\n",
    "model_prediction(RandomForset_CounterVectorizer)"
   ]
  },
  {
   "cell_type": "code",
   "execution_count": 28,
   "id": "bc307358",
   "metadata": {
    "execution": {
     "iopub.execute_input": "2023-05-26T09:58:11.066206Z",
     "iopub.status.busy": "2023-05-26T09:58:11.065393Z",
     "iopub.status.idle": "2023-05-26T09:58:11.420789Z",
     "shell.execute_reply": "2023-05-26T09:58:11.419782Z"
    },
    "papermill": {
     "duration": 0.387435,
     "end_time": "2023-05-26T09:58:11.423241",
     "exception": false,
     "start_time": "2023-05-26T09:58:11.035806",
     "status": "completed"
    },
    "tags": []
   },
   "outputs": [
    {
     "name": "stdout",
     "output_type": "stream",
     "text": [
      "Accuracy_Score of MultinomialNB model on Training Data is: 90.51418439716312\n",
      "Accuracy_Score of MultinomialNB model on Testing Data is: 79.4156706507304\n",
      "\n",
      "------------------------------------------------------------------------\n",
      "Precision Score of MultinomialNB model is: 0.7873754152823921\n",
      "Recall Score of MultinomialNB model is: 0.7225609756097561\n",
      "F1 Score of MultinomialNB model is: 0.753577106518283\n",
      "\n",
      "------------------------------------------------------------------------\n",
      "Confusion Matrix of MultinomialNB model is:\n"
     ]
    },
    {
     "data": {
      "image/png": "[encoded data removed]",
      "text/plain": [
       "<Figure size 600x300 with 2 Axes>"
      ]
     },
     "metadata": {},
     "output_type": "display_data"
    }
   ],
   "source": [
    "Gussian_CounterVectorizer=MultinomialNB()\n",
    "model_prediction(Gussian_CounterVectorizer)"
   ]
  },
  {
   "cell_type": "code",
   "execution_count": 29,
   "id": "c390d440",
   "metadata": {
    "execution": {
     "iopub.execute_input": "2023-05-26T09:58:11.482915Z",
     "iopub.status.busy": "2023-05-26T09:58:11.482305Z",
     "iopub.status.idle": "2023-05-26T09:58:21.305611Z",
     "shell.execute_reply": "2023-05-26T09:58:21.304135Z"
    },
    "papermill": {
     "duration": 9.857327,
     "end_time": "2023-05-26T09:58:21.309382",
     "exception": false,
     "start_time": "2023-05-26T09:58:11.452055",
     "status": "completed"
    },
    "tags": []
   },
   "outputs": [
    {
     "name": "stdout",
     "output_type": "stream",
     "text": [
      "Accuracy_Score of SVC model on Training Data is: 94.59219858156028\n",
      "Accuracy_Score of SVC model on Testing Data is: 81.27490039840637\n",
      "\n",
      "------------------------------------------------------------------------\n",
      "Precision Score of SVC model is: 0.8582375478927203\n",
      "Recall Score of SVC model is: 0.6829268292682927\n",
      "F1 Score of SVC model is: 0.7606112054329373\n",
      "\n",
      "------------------------------------------------------------------------\n",
      "Confusion Matrix of SVC model is:\n"
     ]
    },
    {
     "data": {
      "image/png": "[encoded data removed]",
      "text/plain": [
       "<Figure size 600x300 with 2 Axes>"
      ]
     },
     "metadata": {},
     "output_type": "display_data"
    }
   ],
   "source": [
    "SVC_CounterVectorizer=SVC()\n",
    "model_prediction(SVC_CounterVectorizer)"
   ]
  },
  {
   "attachments": {},
   "cell_type": "markdown",
   "id": "3802b587",
   "metadata": {
    "papermill": {
     "duration": 0.030089,
     "end_time": "2023-05-26T09:58:22.463218",
     "exception": false,
     "start_time": "2023-05-26T09:58:22.433129",
     "status": "completed"
    },
    "tags": []
   },
   "source": [
    "### Observing all models Performance for CounterVectorizer"
   ]
  },
  {
   "cell_type": "code",
   "execution_count": 30,
   "id": "f536fc6c",
   "metadata": {
    "execution": {
     "iopub.execute_input": "2023-05-26T09:58:22.525447Z",
     "iopub.status.busy": "2023-05-26T09:58:22.525024Z",
     "iopub.status.idle": "2023-05-26T09:58:22.531135Z",
     "shell.execute_reply": "2023-05-26T09:58:22.529865Z"
    },
    "papermill": {
     "duration": 0.039984,
     "end_time": "2023-05-26T09:58:22.533687",
     "exception": false,
     "start_time": "2023-05-26T09:58:22.493703",
     "status": "completed"
    },
    "tags": []
   },
   "outputs": [],
   "source": [
    "models_vectorizer = [\"Logistic Regression\",\"Random Forest\",\"Naive Bayes\",\"SVM\"\n",
    "          ]"
   ]
  },
  {
   "cell_type": "code",
   "execution_count": 31,
   "id": "0240c382",
   "metadata": {
    "execution": {
     "iopub.execute_input": "2023-05-26T09:58:22.597263Z",
     "iopub.status.busy": "2023-05-26T09:58:22.596423Z",
     "iopub.status.idle": "2023-05-26T09:58:22.602385Z",
     "shell.execute_reply": "2023-05-26T09:58:22.601133Z"
    },
    "papermill": {
     "duration": 0.0402,
     "end_time": "2023-05-26T09:58:22.605188",
     "exception": false,
     "start_time": "2023-05-26T09:58:22.564988",
     "status": "completed"
    },
    "tags": []
   },
   "outputs": [],
   "source": [
    "df_vectorizer = pd.DataFrame({\"Algorithms\":models_vectorizer,\n",
    "                   \"Training Score\":training_score_vectorizer,\n",
    "                   \"Testing Score\":testing_score_vectorizer})"
   ]
  },
  {
   "cell_type": "code",
   "execution_count": 32,
   "id": "7ba956a4",
   "metadata": {
    "execution": {
     "iopub.execute_input": "2023-05-26T09:58:22.667338Z",
     "iopub.status.busy": "2023-05-26T09:58:22.666542Z",
     "iopub.status.idle": "2023-05-26T09:58:23.199537Z",
     "shell.execute_reply": "2023-05-26T09:58:23.198059Z"
    },
    "papermill": {
     "duration": 0.567074,
     "end_time": "2023-05-26T09:58:23.202473",
     "exception": false,
     "start_time": "2023-05-26T09:58:22.635399",
     "status": "completed"
    },
    "tags": []
   },
   "outputs": [
    {
     "data": {
      "image/png": "[encoded data removed]",
      "text/plain": [
       "<Figure size 1600x600 with 1 Axes>"
      ]
     },
     "metadata": {},
     "output_type": "display_data"
    }
   ],
   "source": [
    "df_vectorizer.plot(x=\"Algorithms\",y=[\"Training Score\",\"Testing Score\"], figsize=(16,6),kind=\"bar\",\n",
    "        title=\"Performance Visualization of Different Models (Vectorizing)\",colormap=\"Set1\")\n",
    "plt.show()"
   ]
  },
  {
   "cell_type": "code",
   "execution_count": 33,
   "id": "2401f327",
   "metadata": {
    "execution": {
     "iopub.execute_input": "2023-05-26T09:58:23.268126Z",
     "iopub.status.busy": "2023-05-26T09:58:23.267704Z",
     "iopub.status.idle": "2023-05-26T09:58:23.278267Z",
     "shell.execute_reply": "2023-05-26T09:58:23.277064Z"
    },
    "papermill": {
     "duration": 0.045861,
     "end_time": "2023-05-26T09:58:23.280904",
     "exception": false,
     "start_time": "2023-05-26T09:58:23.235043",
     "status": "completed"
    },
    "tags": []
   },
   "outputs": [],
   "source": [
    "training_score_tf =[]\n",
    "testing_score_tf =[]\n",
    "\n",
    "def model_prediction_tf(model):\n",
    "    model.fit(X_train_tf,y_train_tf)\n",
    "    x_train_pred = model.predict(X_train_tf)\n",
    "    x_test_pred = model.predict(X_test_tf)\n",
    "    a = accuracy_score(y_train_tf,x_train_pred)*100\n",
    "    b = accuracy_score(y_test_tf,x_test_pred)*100\n",
    "    training_score_tf.append(a)\n",
    "    testing_score_tf.append(b)\n",
    "    model_name = str(model).split('(')[0]\n",
    "    print(f\"Accuracy_Score of {model_name} model on Training Data is:\",a)\n",
    "    print(f\"Accuracy_Score of {model_name} model on Testing Data is:\",b)\n",
    "    print(\"\\n------------------------------------------------------------------------\")\n",
    "    print(f\"Precision Score of {model_name} model is:\",precision_score(y_test_tf,x_test_pred))\n",
    "    print(f\"Recall Score of {model_name} model is:\",recall_score(y_test_tf,x_test_pred))\n",
    "    print(f\"F1 Score of {model_name} model is:\",f1_score(y_test_tf,x_test_pred))\n",
    "    print(\"\\n------------------------------------------------------------------------\")\n",
    "    print(f\"Confusion Matrix of {model_name} model is:\")\n",
    "    cm = confusion_matrix(y_test_tf,x_test_pred)\n",
    "    plt.figure(figsize=(6,3))\n",
    "    sns.heatmap(cm,annot=True,fmt=\"g\",cmap=\"PiYG\")\n",
    "    plt.show()"
   ]
  },
  {
   "cell_type": "code",
   "execution_count": 34,
   "id": "6972f2c1",
   "metadata": {
    "execution": {
     "iopub.execute_input": "2023-05-26T09:58:23.345394Z",
     "iopub.status.busy": "2023-05-26T09:58:23.344986Z",
     "iopub.status.idle": "2023-05-26T09:58:23.805909Z",
     "shell.execute_reply": "2023-05-26T09:58:23.804590Z"
    },
    "papermill": {
     "duration": 0.496844,
     "end_time": "2023-05-26T09:58:23.808476",
     "exception": false,
     "start_time": "2023-05-26T09:58:23.311632",
     "status": "completed"
    },
    "tags": []
   },
   "outputs": [
    {
     "name": "stdout",
     "output_type": "stream",
     "text": [
      "Accuracy_Score of LogisticRegression model on Training Data is: 95.0863213811421\n",
      "Accuracy_Score of LogisticRegression model on Testing Data is: 70.99586288416076\n",
      "\n",
      "------------------------------------------------------------------------\n",
      "Precision Score of LogisticRegression model is: 0.8565861262665627\n",
      "Recall Score of LogisticRegression model is: 0.381862404447533\n",
      "F1 Score of LogisticRegression model is: 0.5282384042297524\n",
      "\n",
      "------------------------------------------------------------------------\n",
      "Confusion Matrix of LogisticRegression model is:\n"
     ]
    },
    {
     "data": {
      "image/png": "[encoded data removed]",
      "text/plain": [
       "<Figure size 600x300 with 2 Axes>"
      ]
     },
     "metadata": {},
     "output_type": "display_data"
    }
   ],
   "source": [
    "LogesticReg_tf=LogisticRegression()\n",
    "model_prediction_tf(LogesticReg_tf)"
   ]
  },
  {
   "cell_type": "code",
   "execution_count": 35,
   "id": "a5623d6c",
   "metadata": {
    "execution": {
     "iopub.execute_input": "2023-05-26T09:58:23.875250Z",
     "iopub.status.busy": "2023-05-26T09:58:23.874427Z",
     "iopub.status.idle": "2023-05-26T09:58:26.078270Z",
     "shell.execute_reply": "2023-05-26T09:58:26.076835Z"
    },
    "papermill": {
     "duration": 2.239298,
     "end_time": "2023-05-26T09:58:26.080806",
     "exception": false,
     "start_time": "2023-05-26T09:58:23.841508",
     "status": "completed"
    },
    "tags": []
   },
   "outputs": [
    {
     "name": "stdout",
     "output_type": "stream",
     "text": [
      "Accuracy_Score of RandomForestClassifier model on Training Data is: 99.33598937583001\n",
      "Accuracy_Score of RandomForestClassifier model on Testing Data is: 69.06028368794325\n",
      "\n",
      "------------------------------------------------------------------------\n",
      "Precision Score of RandomForestClassifier model is: 0.8361921097770154\n",
      "Recall Score of RandomForestClassifier model is: 0.3387769284225156\n",
      "F1 Score of RandomForestClassifier model is: 0.4821958456973293\n",
      "\n",
      "------------------------------------------------------------------------\n",
      "Confusion Matrix of RandomForestClassifier model is:\n"
     ]
    },
    {
     "data": {
      "image/png": "[encoded data removed]",
      "text/plain": [
       "<Figure size 600x300 with 2 Axes>"
      ]
     },
     "metadata": {},
     "output_type": "display_data"
    }
   ],
   "source": [
    "RandomForset_tf=RandomForestClassifier(n_estimators=100)\n",
    "model_prediction_tf(RandomForset_tf)"
   ]
  },
  {
   "cell_type": "code",
   "execution_count": 36,
   "id": "971494bc",
   "metadata": {
    "execution": {
     "iopub.execute_input": "2023-05-26T09:58:26.145733Z",
     "iopub.status.busy": "2023-05-26T09:58:26.145318Z",
     "iopub.status.idle": "2023-05-26T09:58:26.489971Z",
     "shell.execute_reply": "2023-05-26T09:58:26.488494Z"
    },
    "papermill": {
     "duration": 0.380084,
     "end_time": "2023-05-26T09:58:26.492513",
     "exception": false,
     "start_time": "2023-05-26T09:58:26.112429",
     "status": "completed"
    },
    "tags": []
   },
   "outputs": [
    {
     "name": "stdout",
     "output_type": "stream",
     "text": [
      "Accuracy_Score of MultinomialNB model on Training Data is: 95.61752988047809\n",
      "Accuracy_Score of MultinomialNB model on Testing Data is: 72.78368794326241\n",
      "\n",
      "------------------------------------------------------------------------\n",
      "Precision Score of MultinomialNB model is: 0.8213399503722084\n",
      "Recall Score of MultinomialNB model is: 0.4600416956219597\n",
      "F1 Score of MultinomialNB model is: 0.5897550111358574\n",
      "\n",
      "------------------------------------------------------------------------\n",
      "Confusion Matrix of MultinomialNB model is:\n"
     ]
    },
    {
     "data": {
      "image/png": "[encoded data removed]",
      "text/plain": [
       "<Figure size 600x300 with 2 Axes>"
      ]
     },
     "metadata": {},
     "output_type": "display_data"
    }
   ],
   "source": [
    "Gussian_tf=MultinomialNB()\n",
    "model_prediction_tf(Gussian_tf)"
   ]
  },
  {
   "cell_type": "code",
   "execution_count": 37,
   "id": "dbc3938a",
   "metadata": {
    "execution": {
     "iopub.execute_input": "2023-05-26T09:58:26.562163Z",
     "iopub.status.busy": "2023-05-26T09:58:26.561768Z",
     "iopub.status.idle": "2023-05-26T09:58:27.645747Z",
     "shell.execute_reply": "2023-05-26T09:58:27.644745Z"
    },
    "papermill": {
     "duration": 1.123001,
     "end_time": "2023-05-26T09:58:27.648202",
     "exception": false,
     "start_time": "2023-05-26T09:58:26.525201",
     "status": "completed"
    },
    "tags": []
   },
   "outputs": [
    {
     "name": "stdout",
     "output_type": "stream",
     "text": [
      "Accuracy_Score of SVC model on Training Data is: 99.20318725099602\n",
      "Accuracy_Score of SVC model on Testing Data is: 69.13416075650119\n",
      "\n",
      "------------------------------------------------------------------------\n",
      "Precision Score of SVC model is: 0.8863858961802155\n",
      "Recall Score of SVC model is: 0.3144544822793607\n",
      "F1 Score of SVC model is: 0.4642215952808413\n",
      "\n",
      "------------------------------------------------------------------------\n",
      "Confusion Matrix of SVC model is:\n"
     ]
    },
    {
     "data": {
      "image/png": "[encoded data removed]",
      "text/plain": [
       "<Figure size 600x300 with 2 Axes>"
      ]
     },
     "metadata": {},
     "output_type": "display_data"
    }
   ],
   "source": [
    "SVC_tf=SVC()\n",
    "model_prediction_tf(SVC_tf)"
   ]
  },
  {
   "attachments": {},
   "cell_type": "markdown",
   "id": "b272b332",
   "metadata": {
    "papermill": {
     "duration": 0.032877,
     "end_time": "2023-05-26T09:58:28.507287",
     "exception": false,
     "start_time": "2023-05-26T09:58:28.474410",
     "status": "completed"
    },
    "tags": []
   },
   "source": [
    "### Observing all models Performance fot TF_IDF"
   ]
  },
  {
   "cell_type": "code",
   "execution_count": 38,
   "id": "4d8499b8",
   "metadata": {
    "execution": {
     "iopub.execute_input": "2023-05-26T09:58:28.576677Z",
     "iopub.status.busy": "2023-05-26T09:58:28.576259Z",
     "iopub.status.idle": "2023-05-26T09:58:28.582042Z",
     "shell.execute_reply": "2023-05-26T09:58:28.580475Z"
    },
    "papermill": {
     "duration": 0.04386,
     "end_time": "2023-05-26T09:58:28.584648",
     "exception": false,
     "start_time": "2023-05-26T09:58:28.540788",
     "status": "completed"
    },
    "tags": []
   },
   "outputs": [],
   "source": [
    "models_tf = [\"Logistic Regression\",\"Random Forest\",\"Naive Bayes\",\"SVM\"\n",
    "          ]"
   ]
  },
  {
   "cell_type": "code",
   "execution_count": 39,
   "id": "a8b78703",
   "metadata": {
    "execution": {
     "iopub.execute_input": "2023-05-26T09:58:28.654834Z",
     "iopub.status.busy": "2023-05-26T09:58:28.653945Z",
     "iopub.status.idle": "2023-05-26T09:58:28.660214Z",
     "shell.execute_reply": "2023-05-26T09:58:28.658935Z"
    },
    "papermill": {
     "duration": 0.04483,
     "end_time": "2023-05-26T09:58:28.662878",
     "exception": false,
     "start_time": "2023-05-26T09:58:28.618048",
     "status": "completed"
    },
    "tags": []
   },
   "outputs": [],
   "source": [
    "df_tf = pd.DataFrame({\"Algorithms\":models_tf,\n",
    "                   \"Training Score\":training_score_tf,\n",
    "                   \"Testing Score\":testing_score_tf})"
   ]
  },
  {
   "cell_type": "code",
   "execution_count": 40,
   "id": "52ab1694",
   "metadata": {
    "execution": {
     "iopub.execute_input": "2023-05-26T09:58:28.731803Z",
     "iopub.status.busy": "2023-05-26T09:58:28.730960Z",
     "iopub.status.idle": "2023-05-26T09:58:29.185936Z",
     "shell.execute_reply": "2023-05-26T09:58:29.184760Z"
    },
    "papermill": {
     "duration": 0.492162,
     "end_time": "2023-05-26T09:58:29.188419",
     "exception": false,
     "start_time": "2023-05-26T09:58:28.696257",
     "status": "completed"
    },
    "tags": []
   },
   "outputs": [
    {
     "data": {
      "image/png": "[encoded data removed]",
      "text/plain": [
       "<Figure size 1600x600 with 1 Axes>"
      ]
     },
     "metadata": {},
     "output_type": "display_data"
    }
   ],
   "source": [
    "df_tf.plot(x=\"Algorithms\",y=[\"Training Score\",\"Testing Score\"], figsize=(16,6),kind=\"bar\",\n",
    "        title=\"Performance Visualization of Different Models (TF-IDF)\",colormap=\"Set1\")\n",
    "plt.show()"
   ]
  },
  {
   "cell_type": "code",
   "execution_count": null,
   "id": "2f2d0863",
   "metadata": {},
   "outputs": [],
   "source": []
  }
 ],
 "metadata": {
  "kernelspec": {
   "display_name": "Python 3",
   "language": "python",
   "name": "python3"
  },
  "language_info": {
   "codemirror_mode": {
    "name": "ipython",
    "version": 3
   },
   "file_extension": ".py",
   "mimetype": "text/x-python",
   "name": "python",
   "nbconvert_exporter": "python",
   "pygments_lexer": "ipython3",
   "version": "3.9.6"
  },
  "papermill": {
   "default_parameters": {},
   "duration": 78.243689,
   "end_time": "2023-05-26T09:58:32.895323",
   "environment_variables": {},
   "exception": null,
   "input_path": "__notebook__.ipynb",
   "output_path": "__notebook__.ipynb",
   "parameters": {},
   "start_time": "2023-05-26T09:57:14.651634",
   "version": "2.4.0"
  }
 },
 "nbformat": 4,
 "nbformat_minor": 5
}
